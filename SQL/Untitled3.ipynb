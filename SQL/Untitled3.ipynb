{
 "cells": [
  {
   "cell_type": "code",
   "execution_count": 1,
   "metadata": {},
   "outputs": [],
   "source": [
    "%load_ext sql"
   ]
  },
  {
   "cell_type": "code",
   "execution_count": 2,
   "metadata": {},
   "outputs": [
    {
     "data": {
      "text/plain": [
       "'Connected: @None'"
      ]
     },
     "execution_count": 2,
     "metadata": {},
     "output_type": "execute_result"
    }
   ],
   "source": [
    "%sql sqlite://"
   ]
  },
  {
   "cell_type": "code",
   "execution_count": 3,
   "metadata": {},
   "outputs": [
    {
     "name": "stdout",
     "output_type": "stream",
     "text": [
      " * sqlite://\n",
      "Done.\n"
     ]
    },
    {
     "data": {
      "text/plain": [
       "[]"
      ]
     },
     "execution_count": 3,
     "metadata": {},
     "output_type": "execute_result"
    }
   ],
   "source": [
    "%sql create table contests(contest_id int(20), hacker_id int(20), name char(10))"
   ]
  },
  {
   "cell_type": "code",
   "execution_count": 5,
   "metadata": {},
   "outputs": [
    {
     "name": "stdout",
     "output_type": "stream",
     "text": [
      " * sqlite://\n",
      "3 rows affected.\n"
     ]
    },
    {
     "data": {
      "text/plain": [
       "[]"
      ]
     },
     "execution_count": 5,
     "metadata": {},
     "output_type": "execute_result"
    }
   ],
   "source": [
    "%%sql \n",
    "insert into contests (contest_id, hacker_id, name)\n",
    "values\n",
    "(66406,17973,'Rose'),\n",
    "(6656,79153,'Angela'),\n",
    "(94828,80275,'Frank');"
   ]
  },
  {
   "cell_type": "code",
   "execution_count": 10,
   "metadata": {},
   "outputs": [
    {
     "name": "stdout",
     "output_type": "stream",
     "text": [
      " * sqlite://\n",
      "Done.\n"
     ]
    },
    {
     "data": {
      "text/plain": [
       "[]"
      ]
     },
     "execution_count": 10,
     "metadata": {},
     "output_type": "execute_result"
    }
   ],
   "source": [
    "%sql create table colleges(college_id int(20), contest_id int(20))"
   ]
  },
  {
   "cell_type": "code",
   "execution_count": 11,
   "metadata": {},
   "outputs": [
    {
     "name": "stdout",
     "output_type": "stream",
     "text": [
      " * sqlite://\n",
      "3 rows affected.\n"
     ]
    },
    {
     "data": {
      "text/plain": [
       "[]"
      ]
     },
     "execution_count": 11,
     "metadata": {},
     "output_type": "execute_result"
    }
   ],
   "source": [
    "%%sql \n",
    "insert into colleges (college_id, contest_id)\n",
    "values\n",
    "(11219,66406),\n",
    "(32473,66556),\n",
    "(56685,94828);"
   ]
  },
  {
   "cell_type": "code",
   "execution_count": 12,
   "metadata": {},
   "outputs": [
    {
     "name": "stdout",
     "output_type": "stream",
     "text": [
      " * sqlite://\n",
      "Done.\n"
     ]
    },
    {
     "data": {
      "text/html": [
       "<table>\n",
       "    <tr>\n",
       "        <th>hacker_id</th>\n",
       "        <th>contest_id</th>\n",
       "    </tr>\n",
       "    <tr>\n",
       "        <td>17973</td>\n",
       "        <td>66406</td>\n",
       "    </tr>\n",
       "    <tr>\n",
       "        <td>80275</td>\n",
       "        <td>94828</td>\n",
       "    </tr>\n",
       "</table>"
      ],
      "text/plain": [
       "[(17973, 66406), (80275, 94828)]"
      ]
     },
     "execution_count": 12,
     "metadata": {},
     "output_type": "execute_result"
    }
   ],
   "source": [
    "%%sql\n",
    "\n",
    "select c.hacker_id, col.contest_id from contests c, colleges col\n",
    "where c.contest_id = col.contest_id"
   ]
  },
  {
   "cell_type": "code",
   "execution_count": 16,
   "metadata": {},
   "outputs": [
    {
     "name": "stdout",
     "output_type": "stream",
     "text": [
      " * sqlite://\n",
      "Done.\n"
     ]
    },
    {
     "data": {
      "text/plain": [
       "[]"
      ]
     },
     "execution_count": 16,
     "metadata": {},
     "output_type": "execute_result"
    }
   ],
   "source": [
    "%sql create table challenges(challenge_id int(20), college_id int(20))"
   ]
  },
  {
   "cell_type": "code",
   "execution_count": 17,
   "metadata": {},
   "outputs": [
    {
     "name": "stdout",
     "output_type": "stream",
     "text": [
      " * sqlite://\n",
      "4 rows affected.\n"
     ]
    },
    {
     "data": {
      "text/plain": [
       "[]"
      ]
     },
     "execution_count": 17,
     "metadata": {},
     "output_type": "execute_result"
    }
   ],
   "source": [
    "%%sql\n",
    "\n",
    "insert into challenges(challenge_id,college_id)\n",
    "values\n",
    "(18765,11219),\n",
    "(47127,11219),\n",
    "(60292,32473),\n",
    "(72974,56685);"
   ]
  },
  {
   "cell_type": "code",
   "execution_count": 18,
   "metadata": {
    "scrolled": true
   },
   "outputs": [
    {
     "name": "stdout",
     "output_type": "stream",
     "text": [
      " * sqlite://\n",
      "Done.\n"
     ]
    },
    {
     "data": {
      "text/plain": [
       "[]"
      ]
     },
     "execution_count": 18,
     "metadata": {},
     "output_type": "execute_result"
    }
   ],
   "source": [
    "%sql create table view_stats(challenge_id int(20), total_views int(5),total_unique_views int(20))"
   ]
  },
  {
   "cell_type": "code",
   "execution_count": 21,
   "metadata": {},
   "outputs": [
    {
     "name": "stdout",
     "output_type": "stream",
     "text": [
      " * sqlite://\n",
      "8 rows affected.\n"
     ]
    },
    {
     "data": {
      "text/plain": [
       "[]"
      ]
     },
     "execution_count": 21,
     "metadata": {},
     "output_type": "execute_result"
    }
   ],
   "source": [
    "%%sql\n",
    "\n",
    "insert into view_stats(challenge_id,total_views, total_unique_views)\n",
    "values\n",
    "(47127,26,19),\n",
    "(47127,15,14),\n",
    "(18765,43,10),\n",
    "(18765,72,13),\n",
    "(75516,35,17),\n",
    "(72974,41,15),\n",
    "(75516,75,11),\n",
    "(60292,11,10);"
   ]
  },
  {
   "cell_type": "code",
   "execution_count": 22,
   "metadata": {},
   "outputs": [
    {
     "name": "stdout",
     "output_type": "stream",
     "text": [
      " * sqlite://\n",
      "Done.\n"
     ]
    },
    {
     "data": {
      "text/plain": [
       "[]"
      ]
     },
     "execution_count": 22,
     "metadata": {},
     "output_type": "execute_result"
    }
   ],
   "source": [
    "%sql create table submission_stats(challenge_id int(20), total_submissions int(5),total_accepted_submissions int(20))"
   ]
  },
  {
   "cell_type": "code",
   "execution_count": 26,
   "metadata": {},
   "outputs": [
    {
     "name": "stdout",
     "output_type": "stream",
     "text": [
      " * sqlite://\n",
      "8 rows affected.\n"
     ]
    },
    {
     "data": {
      "text/plain": [
       "[]"
      ]
     },
     "execution_count": 26,
     "metadata": {},
     "output_type": "execute_result"
    }
   ],
   "source": [
    "%%sql\n",
    "insert into submission_stats (challenge_id,total_submissions, total_accepted_submissions)\n",
    "values\n",
    "(47127,26,19),\n",
    "(47127,15,14),\n",
    "(18765,43,10),\n",
    "(18765,72,13),\n",
    "(75516,35,17),\n",
    "(72974,41,15),\n",
    "(75516,75,11),\n",
    "(60292,11,10);"
   ]
  },
  {
   "cell_type": "code",
   "execution_count": 41,
   "metadata": {},
   "outputs": [
    {
     "name": "stdout",
     "output_type": "stream",
     "text": [
      " * sqlite://\n",
      "(sqlite3.OperationalError) no such table: contest [SQL: 'select c.contest_id, c.hacker_id, c.name, sum(v.total_views), sum(s.total_submissions) \\nfrom \\ncontest c, college col, view_stats v, submission_stats s, challenges ch\\nwhere\\nc.contest_id = col.contest_id\\nand s.challenge_id = ch.challenge_id\\nand  s.challenge_id = v.challenge_id;'] (Background on this error at: http://sqlalche.me/e/e3q8)\n"
     ]
    }
   ],
   "source": [
    "%%sql\n",
    "\n",
    "SELECT con.contest_id, con.hacker_id, con.name, \n",
    "SUM(sg.total_submissions), SUM(sg.total_accepted_submissions), \n",
    "SUM(vg.total_views), SUM(vg.total_unique_views)\n",
    "FROM Contests con\n",
    "JOIN Colleges col ON con.contest_id = col.contest_id\n",
    "JOIN Challenges cha ON cha.college_id = col.college_id\n",
    "LEFT JOIN\n",
    "(SELECT ss.challenge_id, SUM(ss.total_submissions) total_submissions, SUM(ss.total_accepted_submissions) total_accepted_submissions FROM Submission_Stats ss GROUP BY ss.challenge_id) sg\n",
    "ON cha.challenge_id = sg.challenge_id\n",
    "LEFT JOIN\n",
    "(SELECT vs.challenge_id, SUM(vs.total_views) total_views, SUM(vs.total_unique_views) total_unique_views\n",
    "FROM View_Stats vs GROUP BY vs.challenge_id) vg\n",
    "ON cha.challenge_id = vg.challenge_id\n",
    "GROUP BY con.contest_id, con.hacker_id, con.name\n",
    "HAVING SUM(sg.total_submissions) +\n",
    "       SUM(sg.total_accepted_submissions) +\n",
    "       SUM(vg.total_views) +\n",
    "       SUM(vg.total_unique_views) > 0\n",
    "ORDER BY con.contest_id;"
   ]
  },
  {
   "cell_type": "code",
   "execution_count": 44,
   "metadata": {},
   "outputs": [
    {
     "name": "stdout",
     "output_type": "stream",
     "text": [
      "2\n"
     ]
    }
   ],
   "source": [
    "print(len(['ank','asd']))"
   ]
  },
  {
   "cell_type": "code",
   "execution_count": 45,
   "metadata": {},
   "outputs": [
    {
     "name": "stdout",
     "output_type": "stream",
     "text": [
      "0 p\n",
      "1 a\n",
      "2 n\n",
      "3 k\n",
      "4 a\n",
      "5 j\n"
     ]
    }
   ],
   "source": [
    "a= 'pankaj'\n",
    "for i,c in enumerate(a):\n",
    "    print(i,c)"
   ]
  },
  {
   "cell_type": "code",
   "execution_count": null,
   "metadata": {},
   "outputs": [],
   "source": []
  }
 ],
 "metadata": {
  "kernelspec": {
   "display_name": "Python 3",
   "language": "python",
   "name": "python3"
  },
  "language_info": {
   "codemirror_mode": {
    "name": "ipython",
    "version": 3
   },
   "file_extension": ".py",
   "mimetype": "text/x-python",
   "name": "python",
   "nbconvert_exporter": "python",
   "pygments_lexer": "ipython3",
   "version": "3.7.1"
  }
 },
 "nbformat": 4,
 "nbformat_minor": 2
}
