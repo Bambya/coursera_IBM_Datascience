{
 "cells": [
  {
   "cell_type": "code",
   "execution_count": 1,
   "metadata": {},
   "outputs": [],
   "source": [
    " %load_ext sql"
   ]
  },
  {
   "cell_type": "code",
   "execution_count": 2,
   "metadata": {},
   "outputs": [
    {
     "data": {
      "text/plain": [
       "'Connected: @None'"
      ]
     },
     "execution_count": 2,
     "metadata": {},
     "output_type": "execute_result"
    }
   ],
   "source": [
    "%sql sqlite://"
   ]
  },
  {
   "cell_type": "code",
   "execution_count": 3,
   "metadata": {},
   "outputs": [
    {
     "name": "stdout",
     "output_type": "stream",
     "text": [
      " * sqlite://\n",
      "Done.\n",
      "1 rows affected.\n",
      "1 rows affected.\n"
     ]
    },
    {
     "data": {
      "text/plain": [
       "[]"
      ]
     },
     "execution_count": 3,
     "metadata": {},
     "output_type": "execute_result"
    }
   ],
   "source": [
    "%%sql   \n",
    "CREATE TABLE EMPLOYEE(firstname varchar(50),lastname varchar(50));  \n",
    "INSERT INTO EMPLOYEE VALUES('Tom','Mitchell');  \n",
    "INSERT INTO EMPLOYEE VALUES('Jack','Ryan');"
   ]
  },
  {
   "cell_type": "code",
   "execution_count": 4,
   "metadata": {},
   "outputs": [
    {
     "name": "stdout",
     "output_type": "stream",
     "text": [
      " * sqlite://\n",
      "Done.\n"
     ]
    },
    {
     "data": {
      "text/html": [
       "<table>\n",
       "    <tr>\n",
       "        <th>firstname</th>\n",
       "        <th>lastname</th>\n",
       "    </tr>\n",
       "    <tr>\n",
       "        <td>Tom</td>\n",
       "        <td>Mitchell</td>\n",
       "    </tr>\n",
       "    <tr>\n",
       "        <td>Jack</td>\n",
       "        <td>Ryan</td>\n",
       "    </tr>\n",
       "</table>"
      ],
      "text/plain": [
       "[('Tom', 'Mitchell'), ('Jack', 'Ryan')]"
      ]
     },
     "execution_count": 4,
     "metadata": {},
     "output_type": "execute_result"
    }
   ],
   "source": [
    " %sql SELECT * from EMPLOYEE; "
   ]
  },
  {
   "cell_type": "code",
   "execution_count": 11,
   "metadata": {},
   "outputs": [
    {
     "name": "stdout",
     "output_type": "stream",
     "text": [
      " * sqlite://\n",
      "Done.\n"
     ]
    },
    {
     "data": {
      "text/plain": [
       "[]"
      ]
     },
     "execution_count": 11,
     "metadata": {},
     "output_type": "execute_result"
    }
   ],
   "source": [
    "%%sql   \n",
    "\n",
    "CREATE TABLE worker ( WORKER_ID INT NOT NULL PRIMARY KEY, FIRST_NAME CHAR(25), LAST_NAME CHAR(25), SALARY INT(15), JOINING_DATE DATETIME, DEPARTMENT CHAR(25) );\n"
   ]
  },
  {
   "cell_type": "code",
   "execution_count": 12,
   "metadata": {},
   "outputs": [
    {
     "name": "stdout",
     "output_type": "stream",
     "text": [
      " * sqlite://\n",
      "8 rows affected.\n"
     ]
    },
    {
     "data": {
      "text/plain": [
       "[]"
      ]
     },
     "execution_count": 12,
     "metadata": {},
     "output_type": "execute_result"
    }
   ],
   "source": [
    " %sql INSERT INTO worker (WORKER_ID, FIRST_NAME, LAST_NAME, SALARY, JOINING_DATE, DEPARTMENT) VALUES (001, 'Monika', 'Arora', 100000, '14-02-20 09.00.00', 'HR'), (002, 'Niharika', 'Verma', 80000, '14-06-11 09.00.00', 'Admin'), (003, 'Vishal', 'Singhal', 300000, '14-02-20 09.00.00', 'HR'), (004, 'Amitabh', 'Singh', 500000, '14-02-20 09.00.00', 'Admin'), (005, 'Vivek', 'Bhati', 500000, '14-06-11 09.00.00', 'Admin'), (006, 'Vipul', 'Diwan', 200000, '14-06-11 09.00.00', 'Account'), (007, 'Satish', 'Kumar', 75000, '14-01-20 09.00.00', 'Account'), (008, 'Geetika', 'Chauhan', 90000, '14-04-11 09.00.00', 'Admin');"
   ]
  },
  {
   "cell_type": "code",
   "execution_count": 13,
   "metadata": {},
   "outputs": [
    {
     "name": "stdout",
     "output_type": "stream",
     "text": [
      " * sqlite://\n",
      "Done.\n"
     ]
    },
    {
     "data": {
      "text/html": [
       "<table>\n",
       "    <tr>\n",
       "        <th>WORKER_ID</th>\n",
       "        <th>FIRST_NAME</th>\n",
       "        <th>LAST_NAME</th>\n",
       "        <th>SALARY</th>\n",
       "        <th>JOINING_DATE</th>\n",
       "        <th>DEPARTMENT</th>\n",
       "    </tr>\n",
       "    <tr>\n",
       "        <td>1</td>\n",
       "        <td>Monika</td>\n",
       "        <td>Arora</td>\n",
       "        <td>100000</td>\n",
       "        <td>14-02-20 09.00.00</td>\n",
       "        <td>HR</td>\n",
       "    </tr>\n",
       "    <tr>\n",
       "        <td>2</td>\n",
       "        <td>Niharika</td>\n",
       "        <td>Verma</td>\n",
       "        <td>80000</td>\n",
       "        <td>14-06-11 09.00.00</td>\n",
       "        <td>Admin</td>\n",
       "    </tr>\n",
       "    <tr>\n",
       "        <td>3</td>\n",
       "        <td>Vishal</td>\n",
       "        <td>Singhal</td>\n",
       "        <td>300000</td>\n",
       "        <td>14-02-20 09.00.00</td>\n",
       "        <td>HR</td>\n",
       "    </tr>\n",
       "    <tr>\n",
       "        <td>4</td>\n",
       "        <td>Amitabh</td>\n",
       "        <td>Singh</td>\n",
       "        <td>500000</td>\n",
       "        <td>14-02-20 09.00.00</td>\n",
       "        <td>Admin</td>\n",
       "    </tr>\n",
       "    <tr>\n",
       "        <td>5</td>\n",
       "        <td>Vivek</td>\n",
       "        <td>Bhati</td>\n",
       "        <td>500000</td>\n",
       "        <td>14-06-11 09.00.00</td>\n",
       "        <td>Admin</td>\n",
       "    </tr>\n",
       "    <tr>\n",
       "        <td>6</td>\n",
       "        <td>Vipul</td>\n",
       "        <td>Diwan</td>\n",
       "        <td>200000</td>\n",
       "        <td>14-06-11 09.00.00</td>\n",
       "        <td>Account</td>\n",
       "    </tr>\n",
       "    <tr>\n",
       "        <td>7</td>\n",
       "        <td>Satish</td>\n",
       "        <td>Kumar</td>\n",
       "        <td>75000</td>\n",
       "        <td>14-01-20 09.00.00</td>\n",
       "        <td>Account</td>\n",
       "    </tr>\n",
       "    <tr>\n",
       "        <td>8</td>\n",
       "        <td>Geetika</td>\n",
       "        <td>Chauhan</td>\n",
       "        <td>90000</td>\n",
       "        <td>14-04-11 09.00.00</td>\n",
       "        <td>Admin</td>\n",
       "    </tr>\n",
       "</table>"
      ],
      "text/plain": [
       "[(1, 'Monika', 'Arora', 100000, '14-02-20 09.00.00', 'HR'),\n",
       " (2, 'Niharika', 'Verma', 80000, '14-06-11 09.00.00', 'Admin'),\n",
       " (3, 'Vishal', 'Singhal', 300000, '14-02-20 09.00.00', 'HR'),\n",
       " (4, 'Amitabh', 'Singh', 500000, '14-02-20 09.00.00', 'Admin'),\n",
       " (5, 'Vivek', 'Bhati', 500000, '14-06-11 09.00.00', 'Admin'),\n",
       " (6, 'Vipul', 'Diwan', 200000, '14-06-11 09.00.00', 'Account'),\n",
       " (7, 'Satish', 'Kumar', 75000, '14-01-20 09.00.00', 'Account'),\n",
       " (8, 'Geetika', 'Chauhan', 90000, '14-04-11 09.00.00', 'Admin')]"
      ]
     },
     "execution_count": 13,
     "metadata": {},
     "output_type": "execute_result"
    }
   ],
   "source": [
    "%sql select * from worker"
   ]
  },
  {
   "cell_type": "code",
   "execution_count": 14,
   "metadata": {},
   "outputs": [
    {
     "name": "stdout",
     "output_type": "stream",
     "text": [
      " * sqlite://\n",
      "Done.\n"
     ]
    },
    {
     "data": {
      "text/plain": [
       "[]"
      ]
     },
     "execution_count": 14,
     "metadata": {},
     "output_type": "execute_result"
    }
   ],
   "source": [
    "%%sql\n",
    "\n",
    "CREATE TABLE Bonus ( WORKER_REF_ID INT, BONUS_AMOUNT INT(10), BONUS_DATE DATETIME, FOREIGN KEY (WORKER_REF_ID) REFERENCES Worker(WORKER_ID) ON DELETE CASCADE );\n"
   ]
  },
  {
   "cell_type": "code",
   "execution_count": 15,
   "metadata": {},
   "outputs": [
    {
     "name": "stdout",
     "output_type": "stream",
     "text": [
      " * sqlite://\n",
      "5 rows affected.\n"
     ]
    },
    {
     "data": {
      "text/plain": [
       "[]"
      ]
     },
     "execution_count": 15,
     "metadata": {},
     "output_type": "execute_result"
    }
   ],
   "source": [
    "%sql INSERT INTO Bonus (WORKER_REF_ID, BONUS_AMOUNT, BONUS_DATE) VALUES (001, 5000, '16-02-20'), (002, 3000, '16-06-11'), (003, 4000, '16-02-20'), (001, 4500, '16-02-20'), (002, 3500, '16-06-11');"
   ]
  },
  {
   "cell_type": "code",
   "execution_count": 16,
   "metadata": {},
   "outputs": [
    {
     "name": "stdout",
     "output_type": "stream",
     "text": [
      " * sqlite://\n",
      "Done.\n"
     ]
    },
    {
     "data": {
      "text/plain": [
       "[]"
      ]
     },
     "execution_count": 16,
     "metadata": {},
     "output_type": "execute_result"
    }
   ],
   "source": [
    "%%sql\n",
    "CREATE TABLE Title ( WORKER_REF_ID INT, WORKER_TITLE CHAR(25), AFFECTED_FROM DATETIME, FOREIGN KEY (WORKER_REF_ID) REFERENCES Worker(WORKER_ID) ON DELETE CASCADE );"
   ]
  },
  {
   "cell_type": "code",
   "execution_count": 17,
   "metadata": {},
   "outputs": [
    {
     "name": "stdout",
     "output_type": "stream",
     "text": [
      " * sqlite://\n",
      "8 rows affected.\n"
     ]
    },
    {
     "data": {
      "text/plain": [
       "[]"
      ]
     },
     "execution_count": 17,
     "metadata": {},
     "output_type": "execute_result"
    }
   ],
   "source": [
    "%%sql\n",
    "INSERT INTO Title (WORKER_REF_ID, WORKER_TITLE, AFFECTED_FROM) VALUES (001, 'Manager', '2016-02-20 00:00:00'), (002, 'Executive', '2016-06-11 00:00:00'), (008, 'Executive', '2016-06-11 00:00:00'), (005, 'Manager', '2016-06-11 00:00:00'), (004, 'Asst. Manager', '2016-06-11 00:00:00'), (007, 'Executive', '2016-06-11 00:00:00'), (006, 'Lead', '2016-06-11 00:00:00'), (003, 'Lead', '2016-06-11 00:00:00');"
   ]
  },
  {
   "cell_type": "markdown",
   "metadata": {},
   "source": [
    "###  Q-10. Write An SQL Query To Print The FIRST_NAME And LAST_NAME From Worker Table Into A Single Column COMPLETE_NAME. A Space Char Should Separate Them."
   ]
  },
  {
   "cell_type": "code",
   "execution_count": 22,
   "metadata": {
    "scrolled": true
   },
   "outputs": [
    {
     "name": "stdout",
     "output_type": "stream",
     "text": [
      " * sqlite://\n",
      "Done.\n"
     ]
    },
    {
     "data": {
      "text/html": [
       "<table>\n",
       "    <tr>\n",
       "        <th>COMPLETER_NAME</th>\n",
       "    </tr>\n",
       "    <tr>\n",
       "        <td>Monika Arora</td>\n",
       "    </tr>\n",
       "    <tr>\n",
       "        <td>Niharika Verma</td>\n",
       "    </tr>\n",
       "    <tr>\n",
       "        <td>Vishal Singhal</td>\n",
       "    </tr>\n",
       "    <tr>\n",
       "        <td>Amitabh Singh</td>\n",
       "    </tr>\n",
       "    <tr>\n",
       "        <td>Vivek Bhati</td>\n",
       "    </tr>\n",
       "    <tr>\n",
       "        <td>Vipul Diwan</td>\n",
       "    </tr>\n",
       "    <tr>\n",
       "        <td>Satish Kumar</td>\n",
       "    </tr>\n",
       "    <tr>\n",
       "        <td>Geetika Chauhan</td>\n",
       "    </tr>\n",
       "</table>"
      ],
      "text/plain": [
       "[('Monika Arora',),\n",
       " ('Niharika Verma',),\n",
       " ('Vishal Singhal',),\n",
       " ('Amitabh Singh',),\n",
       " ('Vivek Bhati',),\n",
       " ('Vipul Diwan',),\n",
       " ('Satish Kumar',),\n",
       " ('Geetika Chauhan',)]"
      ]
     },
     "execution_count": 22,
     "metadata": {},
     "output_type": "execute_result"
    }
   ],
   "source": [
    "%sql select first_name || ' ' || last_name as COMPLETER_NAME from worker;"
   ]
  },
  {
   "cell_type": "markdown",
   "metadata": {},
   "source": [
    "### Q-11. Write An SQL Query To Print All Worker Details From The Worker Table Order By FIRST_NAME Ascending."
   ]
  },
  {
   "cell_type": "code",
   "execution_count": 24,
   "metadata": {},
   "outputs": [
    {
     "name": "stdout",
     "output_type": "stream",
     "text": [
      " * sqlite://\n",
      "Done.\n"
     ]
    },
    {
     "data": {
      "text/html": [
       "<table>\n",
       "    <tr>\n",
       "        <th>WORKER_ID</th>\n",
       "        <th>FIRST_NAME</th>\n",
       "        <th>LAST_NAME</th>\n",
       "        <th>SALARY</th>\n",
       "        <th>JOINING_DATE</th>\n",
       "        <th>DEPARTMENT</th>\n",
       "    </tr>\n",
       "    <tr>\n",
       "        <td>4</td>\n",
       "        <td>Amitabh</td>\n",
       "        <td>Singh</td>\n",
       "        <td>500000</td>\n",
       "        <td>14-02-20 09.00.00</td>\n",
       "        <td>Admin</td>\n",
       "    </tr>\n",
       "    <tr>\n",
       "        <td>8</td>\n",
       "        <td>Geetika</td>\n",
       "        <td>Chauhan</td>\n",
       "        <td>90000</td>\n",
       "        <td>14-04-11 09.00.00</td>\n",
       "        <td>Admin</td>\n",
       "    </tr>\n",
       "    <tr>\n",
       "        <td>1</td>\n",
       "        <td>Monika</td>\n",
       "        <td>Arora</td>\n",
       "        <td>100000</td>\n",
       "        <td>14-02-20 09.00.00</td>\n",
       "        <td>HR</td>\n",
       "    </tr>\n",
       "    <tr>\n",
       "        <td>2</td>\n",
       "        <td>Niharika</td>\n",
       "        <td>Verma</td>\n",
       "        <td>80000</td>\n",
       "        <td>14-06-11 09.00.00</td>\n",
       "        <td>Admin</td>\n",
       "    </tr>\n",
       "    <tr>\n",
       "        <td>7</td>\n",
       "        <td>Satish</td>\n",
       "        <td>Kumar</td>\n",
       "        <td>75000</td>\n",
       "        <td>14-01-20 09.00.00</td>\n",
       "        <td>Account</td>\n",
       "    </tr>\n",
       "    <tr>\n",
       "        <td>6</td>\n",
       "        <td>Vipul</td>\n",
       "        <td>Diwan</td>\n",
       "        <td>200000</td>\n",
       "        <td>14-06-11 09.00.00</td>\n",
       "        <td>Account</td>\n",
       "    </tr>\n",
       "    <tr>\n",
       "        <td>3</td>\n",
       "        <td>Vishal</td>\n",
       "        <td>Singhal</td>\n",
       "        <td>300000</td>\n",
       "        <td>14-02-20 09.00.00</td>\n",
       "        <td>HR</td>\n",
       "    </tr>\n",
       "    <tr>\n",
       "        <td>5</td>\n",
       "        <td>Vivek</td>\n",
       "        <td>Bhati</td>\n",
       "        <td>500000</td>\n",
       "        <td>14-06-11 09.00.00</td>\n",
       "        <td>Admin</td>\n",
       "    </tr>\n",
       "</table>"
      ],
      "text/plain": [
       "[(4, 'Amitabh', 'Singh', 500000, '14-02-20 09.00.00', 'Admin'),\n",
       " (8, 'Geetika', 'Chauhan', 90000, '14-04-11 09.00.00', 'Admin'),\n",
       " (1, 'Monika', 'Arora', 100000, '14-02-20 09.00.00', 'HR'),\n",
       " (2, 'Niharika', 'Verma', 80000, '14-06-11 09.00.00', 'Admin'),\n",
       " (7, 'Satish', 'Kumar', 75000, '14-01-20 09.00.00', 'Account'),\n",
       " (6, 'Vipul', 'Diwan', 200000, '14-06-11 09.00.00', 'Account'),\n",
       " (3, 'Vishal', 'Singhal', 300000, '14-02-20 09.00.00', 'HR'),\n",
       " (5, 'Vivek', 'Bhati', 500000, '14-06-11 09.00.00', 'Admin')]"
      ]
     },
     "execution_count": 24,
     "metadata": {},
     "output_type": "execute_result"
    }
   ],
   "source": [
    "%sql select * from worker order by first_name"
   ]
  },
  {
   "cell_type": "markdown",
   "metadata": {},
   "source": [
    "### Q-12. Write An SQL Query To Print All Worker Details From The Worker Table Order By FIRST_NAME Ascending And DEPARTMENT Descending.\n"
   ]
  },
  {
   "cell_type": "code",
   "execution_count": 26,
   "metadata": {},
   "outputs": [
    {
     "name": "stdout",
     "output_type": "stream",
     "text": [
      " * sqlite://\n",
      "Done.\n"
     ]
    },
    {
     "data": {
      "text/html": [
       "<table>\n",
       "    <tr>\n",
       "        <th>WORKER_ID</th>\n",
       "        <th>FIRST_NAME</th>\n",
       "        <th>LAST_NAME</th>\n",
       "        <th>SALARY</th>\n",
       "        <th>JOINING_DATE</th>\n",
       "        <th>DEPARTMENT</th>\n",
       "    </tr>\n",
       "    <tr>\n",
       "        <td>4</td>\n",
       "        <td>Amitabh</td>\n",
       "        <td>Singh</td>\n",
       "        <td>500000</td>\n",
       "        <td>14-02-20 09.00.00</td>\n",
       "        <td>Admin</td>\n",
       "    </tr>\n",
       "    <tr>\n",
       "        <td>8</td>\n",
       "        <td>Geetika</td>\n",
       "        <td>Chauhan</td>\n",
       "        <td>90000</td>\n",
       "        <td>14-04-11 09.00.00</td>\n",
       "        <td>Admin</td>\n",
       "    </tr>\n",
       "    <tr>\n",
       "        <td>1</td>\n",
       "        <td>Monika</td>\n",
       "        <td>Arora</td>\n",
       "        <td>100000</td>\n",
       "        <td>14-02-20 09.00.00</td>\n",
       "        <td>HR</td>\n",
       "    </tr>\n",
       "    <tr>\n",
       "        <td>2</td>\n",
       "        <td>Niharika</td>\n",
       "        <td>Verma</td>\n",
       "        <td>80000</td>\n",
       "        <td>14-06-11 09.00.00</td>\n",
       "        <td>Admin</td>\n",
       "    </tr>\n",
       "    <tr>\n",
       "        <td>7</td>\n",
       "        <td>Satish</td>\n",
       "        <td>Kumar</td>\n",
       "        <td>75000</td>\n",
       "        <td>14-01-20 09.00.00</td>\n",
       "        <td>Account</td>\n",
       "    </tr>\n",
       "    <tr>\n",
       "        <td>6</td>\n",
       "        <td>Vipul</td>\n",
       "        <td>Diwan</td>\n",
       "        <td>200000</td>\n",
       "        <td>14-06-11 09.00.00</td>\n",
       "        <td>Account</td>\n",
       "    </tr>\n",
       "    <tr>\n",
       "        <td>3</td>\n",
       "        <td>Vishal</td>\n",
       "        <td>Singhal</td>\n",
       "        <td>300000</td>\n",
       "        <td>14-02-20 09.00.00</td>\n",
       "        <td>HR</td>\n",
       "    </tr>\n",
       "    <tr>\n",
       "        <td>5</td>\n",
       "        <td>Vivek</td>\n",
       "        <td>Bhati</td>\n",
       "        <td>500000</td>\n",
       "        <td>14-06-11 09.00.00</td>\n",
       "        <td>Admin</td>\n",
       "    </tr>\n",
       "</table>"
      ],
      "text/plain": [
       "[(4, 'Amitabh', 'Singh', 500000, '14-02-20 09.00.00', 'Admin'),\n",
       " (8, 'Geetika', 'Chauhan', 90000, '14-04-11 09.00.00', 'Admin'),\n",
       " (1, 'Monika', 'Arora', 100000, '14-02-20 09.00.00', 'HR'),\n",
       " (2, 'Niharika', 'Verma', 80000, '14-06-11 09.00.00', 'Admin'),\n",
       " (7, 'Satish', 'Kumar', 75000, '14-01-20 09.00.00', 'Account'),\n",
       " (6, 'Vipul', 'Diwan', 200000, '14-06-11 09.00.00', 'Account'),\n",
       " (3, 'Vishal', 'Singhal', 300000, '14-02-20 09.00.00', 'HR'),\n",
       " (5, 'Vivek', 'Bhati', 500000, '14-06-11 09.00.00', 'Admin')]"
      ]
     },
     "execution_count": 26,
     "metadata": {},
     "output_type": "execute_result"
    }
   ],
   "source": [
    "%sql select * from worker order by first_name asc, department desc"
   ]
  },
  {
   "cell_type": "markdown",
   "metadata": {},
   "source": [
    "###  Q-13. Write An SQL Query To Print Details For Workers With The First Name As “Vipul” And “Satish” From Worker Table."
   ]
  },
  {
   "cell_type": "code",
   "execution_count": 27,
   "metadata": {},
   "outputs": [
    {
     "name": "stdout",
     "output_type": "stream",
     "text": [
      " * sqlite://\n",
      "Done.\n"
     ]
    },
    {
     "data": {
      "text/html": [
       "<table>\n",
       "    <tr>\n",
       "        <th>WORKER_ID</th>\n",
       "        <th>FIRST_NAME</th>\n",
       "        <th>LAST_NAME</th>\n",
       "        <th>SALARY</th>\n",
       "        <th>JOINING_DATE</th>\n",
       "        <th>DEPARTMENT</th>\n",
       "    </tr>\n",
       "    <tr>\n",
       "        <td>6</td>\n",
       "        <td>Vipul</td>\n",
       "        <td>Diwan</td>\n",
       "        <td>200000</td>\n",
       "        <td>14-06-11 09.00.00</td>\n",
       "        <td>Account</td>\n",
       "    </tr>\n",
       "    <tr>\n",
       "        <td>7</td>\n",
       "        <td>Satish</td>\n",
       "        <td>Kumar</td>\n",
       "        <td>75000</td>\n",
       "        <td>14-01-20 09.00.00</td>\n",
       "        <td>Account</td>\n",
       "    </tr>\n",
       "</table>"
      ],
      "text/plain": [
       "[(6, 'Vipul', 'Diwan', 200000, '14-06-11 09.00.00', 'Account'),\n",
       " (7, 'Satish', 'Kumar', 75000, '14-01-20 09.00.00', 'Account')]"
      ]
     },
     "execution_count": 27,
     "metadata": {},
     "output_type": "execute_result"
    }
   ],
   "source": [
    "%sql select * from worker where first_name in ('Vipul', 'Satish')"
   ]
  },
  {
   "cell_type": "markdown",
   "metadata": {},
   "source": [
    "### Q-14. Write An SQL Query To Print Details Of Workers Excluding First Names, “Vipul” And “Satish” From Worker Table."
   ]
  },
  {
   "cell_type": "code",
   "execution_count": 31,
   "metadata": {},
   "outputs": [
    {
     "name": "stdout",
     "output_type": "stream",
     "text": [
      " * sqlite://\n",
      "Done.\n"
     ]
    },
    {
     "data": {
      "text/html": [
       "<table>\n",
       "    <tr>\n",
       "        <th>WORKER_ID</th>\n",
       "        <th>FIRST_NAME</th>\n",
       "        <th>LAST_NAME</th>\n",
       "        <th>SALARY</th>\n",
       "        <th>JOINING_DATE</th>\n",
       "        <th>DEPARTMENT</th>\n",
       "    </tr>\n",
       "    <tr>\n",
       "        <td>1</td>\n",
       "        <td>Monika</td>\n",
       "        <td>Arora</td>\n",
       "        <td>100000</td>\n",
       "        <td>14-02-20 09.00.00</td>\n",
       "        <td>HR</td>\n",
       "    </tr>\n",
       "    <tr>\n",
       "        <td>2</td>\n",
       "        <td>Niharika</td>\n",
       "        <td>Verma</td>\n",
       "        <td>80000</td>\n",
       "        <td>14-06-11 09.00.00</td>\n",
       "        <td>Admin</td>\n",
       "    </tr>\n",
       "    <tr>\n",
       "        <td>3</td>\n",
       "        <td>Vishal</td>\n",
       "        <td>Singhal</td>\n",
       "        <td>300000</td>\n",
       "        <td>14-02-20 09.00.00</td>\n",
       "        <td>HR</td>\n",
       "    </tr>\n",
       "    <tr>\n",
       "        <td>4</td>\n",
       "        <td>Amitabh</td>\n",
       "        <td>Singh</td>\n",
       "        <td>500000</td>\n",
       "        <td>14-02-20 09.00.00</td>\n",
       "        <td>Admin</td>\n",
       "    </tr>\n",
       "    <tr>\n",
       "        <td>5</td>\n",
       "        <td>Vivek</td>\n",
       "        <td>Bhati</td>\n",
       "        <td>500000</td>\n",
       "        <td>14-06-11 09.00.00</td>\n",
       "        <td>Admin</td>\n",
       "    </tr>\n",
       "    <tr>\n",
       "        <td>8</td>\n",
       "        <td>Geetika</td>\n",
       "        <td>Chauhan</td>\n",
       "        <td>90000</td>\n",
       "        <td>14-04-11 09.00.00</td>\n",
       "        <td>Admin</td>\n",
       "    </tr>\n",
       "</table>"
      ],
      "text/plain": [
       "[(1, 'Monika', 'Arora', 100000, '14-02-20 09.00.00', 'HR'),\n",
       " (2, 'Niharika', 'Verma', 80000, '14-06-11 09.00.00', 'Admin'),\n",
       " (3, 'Vishal', 'Singhal', 300000, '14-02-20 09.00.00', 'HR'),\n",
       " (4, 'Amitabh', 'Singh', 500000, '14-02-20 09.00.00', 'Admin'),\n",
       " (5, 'Vivek', 'Bhati', 500000, '14-06-11 09.00.00', 'Admin'),\n",
       " (8, 'Geetika', 'Chauhan', 90000, '14-04-11 09.00.00', 'Admin')]"
      ]
     },
     "execution_count": 31,
     "metadata": {},
     "output_type": "execute_result"
    }
   ],
   "source": [
    "%sql select * from worker where first_name not in ('Vipul', 'Satish');"
   ]
  },
  {
   "cell_type": "markdown",
   "metadata": {},
   "source": [
    "### Q-15. Write An SQL Query To Print Details Of Workers With DEPARTMENT Name As “Admin”."
   ]
  },
  {
   "cell_type": "code",
   "execution_count": 33,
   "metadata": {},
   "outputs": [
    {
     "name": "stdout",
     "output_type": "stream",
     "text": [
      " * sqlite://\n",
      "Done.\n"
     ]
    },
    {
     "data": {
      "text/html": [
       "<table>\n",
       "    <tr>\n",
       "        <th>WORKER_ID</th>\n",
       "        <th>FIRST_NAME</th>\n",
       "        <th>LAST_NAME</th>\n",
       "        <th>SALARY</th>\n",
       "        <th>JOINING_DATE</th>\n",
       "        <th>DEPARTMENT</th>\n",
       "    </tr>\n",
       "    <tr>\n",
       "        <td>2</td>\n",
       "        <td>Niharika</td>\n",
       "        <td>Verma</td>\n",
       "        <td>80000</td>\n",
       "        <td>14-06-11 09.00.00</td>\n",
       "        <td>Admin</td>\n",
       "    </tr>\n",
       "    <tr>\n",
       "        <td>4</td>\n",
       "        <td>Amitabh</td>\n",
       "        <td>Singh</td>\n",
       "        <td>500000</td>\n",
       "        <td>14-02-20 09.00.00</td>\n",
       "        <td>Admin</td>\n",
       "    </tr>\n",
       "    <tr>\n",
       "        <td>5</td>\n",
       "        <td>Vivek</td>\n",
       "        <td>Bhati</td>\n",
       "        <td>500000</td>\n",
       "        <td>14-06-11 09.00.00</td>\n",
       "        <td>Admin</td>\n",
       "    </tr>\n",
       "    <tr>\n",
       "        <td>8</td>\n",
       "        <td>Geetika</td>\n",
       "        <td>Chauhan</td>\n",
       "        <td>90000</td>\n",
       "        <td>14-04-11 09.00.00</td>\n",
       "        <td>Admin</td>\n",
       "    </tr>\n",
       "</table>"
      ],
      "text/plain": [
       "[(2, 'Niharika', 'Verma', 80000, '14-06-11 09.00.00', 'Admin'),\n",
       " (4, 'Amitabh', 'Singh', 500000, '14-02-20 09.00.00', 'Admin'),\n",
       " (5, 'Vivek', 'Bhati', 500000, '14-06-11 09.00.00', 'Admin'),\n",
       " (8, 'Geetika', 'Chauhan', 90000, '14-04-11 09.00.00', 'Admin')]"
      ]
     },
     "execution_count": 33,
     "metadata": {},
     "output_type": "execute_result"
    }
   ],
   "source": [
    "%sql select * from worker where department like 'Admin%'"
   ]
  },
  {
   "cell_type": "markdown",
   "metadata": {},
   "source": [
    "### Q-16. Write An SQL Query To Print Details Of The Workers Whose FIRST_NAME Contains ‘A’."
   ]
  },
  {
   "cell_type": "code",
   "execution_count": 35,
   "metadata": {},
   "outputs": [
    {
     "name": "stdout",
     "output_type": "stream",
     "text": [
      " * sqlite://\n",
      "Done.\n"
     ]
    },
    {
     "data": {
      "text/html": [
       "<table>\n",
       "    <tr>\n",
       "        <th>WORKER_ID</th>\n",
       "        <th>FIRST_NAME</th>\n",
       "        <th>LAST_NAME</th>\n",
       "        <th>SALARY</th>\n",
       "        <th>JOINING_DATE</th>\n",
       "        <th>DEPARTMENT</th>\n",
       "    </tr>\n",
       "    <tr>\n",
       "        <td>1</td>\n",
       "        <td>Monika</td>\n",
       "        <td>Arora</td>\n",
       "        <td>100000</td>\n",
       "        <td>14-02-20 09.00.00</td>\n",
       "        <td>HR</td>\n",
       "    </tr>\n",
       "    <tr>\n",
       "        <td>2</td>\n",
       "        <td>Niharika</td>\n",
       "        <td>Verma</td>\n",
       "        <td>80000</td>\n",
       "        <td>14-06-11 09.00.00</td>\n",
       "        <td>Admin</td>\n",
       "    </tr>\n",
       "    <tr>\n",
       "        <td>3</td>\n",
       "        <td>Vishal</td>\n",
       "        <td>Singhal</td>\n",
       "        <td>300000</td>\n",
       "        <td>14-02-20 09.00.00</td>\n",
       "        <td>HR</td>\n",
       "    </tr>\n",
       "    <tr>\n",
       "        <td>4</td>\n",
       "        <td>Amitabh</td>\n",
       "        <td>Singh</td>\n",
       "        <td>500000</td>\n",
       "        <td>14-02-20 09.00.00</td>\n",
       "        <td>Admin</td>\n",
       "    </tr>\n",
       "    <tr>\n",
       "        <td>7</td>\n",
       "        <td>Satish</td>\n",
       "        <td>Kumar</td>\n",
       "        <td>75000</td>\n",
       "        <td>14-01-20 09.00.00</td>\n",
       "        <td>Account</td>\n",
       "    </tr>\n",
       "    <tr>\n",
       "        <td>8</td>\n",
       "        <td>Geetika</td>\n",
       "        <td>Chauhan</td>\n",
       "        <td>90000</td>\n",
       "        <td>14-04-11 09.00.00</td>\n",
       "        <td>Admin</td>\n",
       "    </tr>\n",
       "</table>"
      ],
      "text/plain": [
       "[(1, 'Monika', 'Arora', 100000, '14-02-20 09.00.00', 'HR'),\n",
       " (2, 'Niharika', 'Verma', 80000, '14-06-11 09.00.00', 'Admin'),\n",
       " (3, 'Vishal', 'Singhal', 300000, '14-02-20 09.00.00', 'HR'),\n",
       " (4, 'Amitabh', 'Singh', 500000, '14-02-20 09.00.00', 'Admin'),\n",
       " (7, 'Satish', 'Kumar', 75000, '14-01-20 09.00.00', 'Account'),\n",
       " (8, 'Geetika', 'Chauhan', 90000, '14-04-11 09.00.00', 'Admin')]"
      ]
     },
     "execution_count": 35,
     "metadata": {},
     "output_type": "execute_result"
    }
   ],
   "source": [
    "%sql select * from worker where first_name like '%A%'"
   ]
  },
  {
   "cell_type": "markdown",
   "metadata": {},
   "source": [
    "### Q-17. Write An SQL Query To Print Details Of The Workers Whose FIRST_NAME Ends With ‘A’."
   ]
  },
  {
   "cell_type": "code",
   "execution_count": 39,
   "metadata": {},
   "outputs": [
    {
     "name": "stdout",
     "output_type": "stream",
     "text": [
      " * sqlite://\n",
      "Done.\n"
     ]
    },
    {
     "data": {
      "text/html": [
       "<table>\n",
       "    <tr>\n",
       "        <th>WORKER_ID</th>\n",
       "        <th>FIRST_NAME</th>\n",
       "        <th>LAST_NAME</th>\n",
       "        <th>SALARY</th>\n",
       "        <th>JOINING_DATE</th>\n",
       "        <th>DEPARTMENT</th>\n",
       "    </tr>\n",
       "    <tr>\n",
       "        <td>1</td>\n",
       "        <td>Monika</td>\n",
       "        <td>Arora</td>\n",
       "        <td>100000</td>\n",
       "        <td>14-02-20 09.00.00</td>\n",
       "        <td>HR</td>\n",
       "    </tr>\n",
       "    <tr>\n",
       "        <td>2</td>\n",
       "        <td>Niharika</td>\n",
       "        <td>Verma</td>\n",
       "        <td>80000</td>\n",
       "        <td>14-06-11 09.00.00</td>\n",
       "        <td>Admin</td>\n",
       "    </tr>\n",
       "    <tr>\n",
       "        <td>8</td>\n",
       "        <td>Geetika</td>\n",
       "        <td>Chauhan</td>\n",
       "        <td>90000</td>\n",
       "        <td>14-04-11 09.00.00</td>\n",
       "        <td>Admin</td>\n",
       "    </tr>\n",
       "</table>"
      ],
      "text/plain": [
       "[(1, 'Monika', 'Arora', 100000, '14-02-20 09.00.00', 'HR'),\n",
       " (2, 'Niharika', 'Verma', 80000, '14-06-11 09.00.00', 'Admin'),\n",
       " (8, 'Geetika', 'Chauhan', 90000, '14-04-11 09.00.00', 'Admin')]"
      ]
     },
     "execution_count": 39,
     "metadata": {},
     "output_type": "execute_result"
    }
   ],
   "source": [
    "%sql select * from worker where first_name like '%a'"
   ]
  },
  {
   "cell_type": "markdown",
   "metadata": {},
   "source": [
    "### Q-18. Write An SQL Query To Print Details Of The Workers Whose FIRST_NAME Ends With ‘H’ And Contains Six Alphabets."
   ]
  },
  {
   "cell_type": "code",
   "execution_count": 42,
   "metadata": {},
   "outputs": [
    {
     "name": "stdout",
     "output_type": "stream",
     "text": [
      " * sqlite://\n",
      "Done.\n"
     ]
    },
    {
     "data": {
      "text/html": [
       "<table>\n",
       "    <tr>\n",
       "        <th>WORKER_ID</th>\n",
       "        <th>FIRST_NAME</th>\n",
       "        <th>LAST_NAME</th>\n",
       "        <th>SALARY</th>\n",
       "        <th>JOINING_DATE</th>\n",
       "        <th>DEPARTMENT</th>\n",
       "    </tr>\n",
       "    <tr>\n",
       "        <td>7</td>\n",
       "        <td>Satish</td>\n",
       "        <td>Kumar</td>\n",
       "        <td>75000</td>\n",
       "        <td>14-01-20 09.00.00</td>\n",
       "        <td>Account</td>\n",
       "    </tr>\n",
       "</table>"
      ],
      "text/plain": [
       "[(7, 'Satish', 'Kumar', 75000, '14-01-20 09.00.00', 'Account')]"
      ]
     },
     "execution_count": 42,
     "metadata": {},
     "output_type": "execute_result"
    }
   ],
   "source": [
    "%sql select * from worker where first_name like '_____h' \n",
    "#and length(first_name) = 6"
   ]
  },
  {
   "cell_type": "markdown",
   "metadata": {},
   "source": [
    "### Q-19. Write An SQL Query To Print Details Of The Workers Whose SALARY Lies Between 100000 And 500000."
   ]
  },
  {
   "cell_type": "code",
   "execution_count": 43,
   "metadata": {},
   "outputs": [
    {
     "name": "stdout",
     "output_type": "stream",
     "text": [
      " * sqlite://\n"
     ]
    },
    {
     "data": {
      "text/plain": [
       "'Connected: @None'"
      ]
     },
     "execution_count": 43,
     "metadata": {},
     "output_type": "execute_result"
    }
   ],
   "source": [
    "%sql "
   ]
  },
  {
   "cell_type": "code",
   "execution_count": null,
   "metadata": {},
   "outputs": [],
   "source": []
  },
  {
   "cell_type": "code",
   "execution_count": 45,
   "metadata": {},
   "outputs": [
    {
     "name": "stdout",
     "output_type": "stream",
     "text": [
      " * sqlite://\n",
      "(sqlite3.OperationalError) no such function: year [SQL: 'Select * from Worker where year(JOINING_DATE) = 2014 and month(JOINING_DATE) = 2;'] (Background on this error at: http://sqlalche.me/e/e3q8)\n"
     ]
    }
   ],
   "source": [
    "%sql Select * from Worker where year(JOINING_DATE) = 2014 and month(JOINING_DATE) = 2;\n"
   ]
  },
  {
   "cell_type": "code",
   "execution_count": 50,
   "metadata": {},
   "outputs": [],
   "source": [
    "def number(height):\n",
    "    n = len(height)\n",
    "    count=0\n",
    "    for i in range(n):\n",
    "        k = i\n",
    "        while(height[i] > height[k-1] and k < n):\n",
    "            count = count + 1\n",
    "            k = k+1\n",
    "    return count"
   ]
  },
  {
   "cell_type": "code",
   "execution_count": 65,
   "metadata": {},
   "outputs": [
    {
     "data": {
      "text/plain": [
       "3"
      ]
     },
     "execution_count": 65,
     "metadata": {},
     "output_type": "execute_result"
    }
   ],
   "source": [
    "number([1,1,4,1,3,5,2])"
   ]
  },
  {
   "cell_type": "code",
   "execution_count": 74,
   "metadata": {},
   "outputs": [
    {
     "data": {
      "text/plain": [
       "1"
      ]
     },
     "execution_count": 74,
     "metadata": {},
     "output_type": "execute_result"
    }
   ],
   "source": [
    "a,b = [1,2]\n",
    "a"
   ]
  },
  {
   "cell_type": "code",
   "execution_count": 62,
   "metadata": {},
   "outputs": [
    {
     "name": "stdout",
     "output_type": "stream",
     "text": [
      "1\n",
      "1\n",
      "0\n",
      "3\n"
     ]
    }
   ],
   "source": [
    "for i in range(len(a)):\n",
    "    print(a[i])"
   ]
  },
  {
   "cell_type": "code",
   "execution_count": 80,
   "metadata": {},
   "outputs": [
    {
     "data": {
      "text/plain": [
       "12"
      ]
     },
     "execution_count": 80,
     "metadata": {},
     "output_type": "execute_result"
    }
   ],
   "source": [
    "len([['B'], ['B', 'A'], ['B', 'A', 'N'], ['B', 'A', 'N', 'A'], ['B', 'A', 'N', 'A', 'N'], ['B', 'A', 'N', 'A', 'N', 'A'], ['N'], ['N', 'A'], ['N', 'A', 'N'], ['N', 'A', 'N', 'A'], ['N'], ['N', 'A']])"
   ]
  },
  {
   "cell_type": "code",
   "execution_count": 79,
   "metadata": {},
   "outputs": [],
   "source": [
    "a.append(3)"
   ]
  },
  {
   "cell_type": "code",
   "execution_count": 81,
   "metadata": {},
   "outputs": [
    {
     "data": {
      "text/plain": [
       "[1, 2, 2]"
      ]
     },
     "execution_count": 81,
     "metadata": {},
     "output_type": "execute_result"
    }
   ],
   "source": [
    "a[0:3]"
   ]
  },
  {
   "cell_type": "code",
   "execution_count": 82,
   "metadata": {},
   "outputs": [
    {
     "data": {
      "text/plain": [
       "[1, 2, 2, 3, 3]"
      ]
     },
     "execution_count": 82,
     "metadata": {},
     "output_type": "execute_result"
    }
   ],
   "source": [
    "a"
   ]
  },
  {
   "cell_type": "code",
   "execution_count": 83,
   "metadata": {},
   "outputs": [
    {
     "data": {
      "text/plain": [
       "[3, 3]"
      ]
     },
     "execution_count": 83,
     "metadata": {},
     "output_type": "execute_result"
    }
   ],
   "source": [
    "a[3:]"
   ]
  },
  {
   "cell_type": "code",
   "execution_count": 84,
   "metadata": {},
   "outputs": [],
   "source": [
    "a= [1,2]"
   ]
  },
  {
   "cell_type": "code",
   "execution_count": 85,
   "metadata": {},
   "outputs": [
    {
     "data": {
      "text/plain": [
       "[[1, 2]]"
      ]
     },
     "execution_count": 85,
     "metadata": {},
     "output_type": "execute_result"
    }
   ],
   "source": [
    "b=[]\n",
    "b.append(a)\n",
    "b"
   ]
  },
  {
   "cell_type": "code",
   "execution_count": 86,
   "metadata": {},
   "outputs": [],
   "source": [
    "a=[3,4]"
   ]
  },
  {
   "cell_type": "code",
   "execution_count": 87,
   "metadata": {},
   "outputs": [
    {
     "data": {
      "text/plain": [
       "[[1, 2], [3, 4]]"
      ]
     },
     "execution_count": 87,
     "metadata": {},
     "output_type": "execute_result"
    }
   ],
   "source": [
    "b.append(a)\n",
    "b"
   ]
  },
  {
   "cell_type": "code",
   "execution_count": 88,
   "metadata": {},
   "outputs": [
    {
     "data": {
      "text/plain": [
       "[3, 4]"
      ]
     },
     "execution_count": 88,
     "metadata": {},
     "output_type": "execute_result"
    }
   ],
   "source": [
    "b[1]"
   ]
  },
  {
   "cell_type": "code",
   "execution_count": 92,
   "metadata": {},
   "outputs": [],
   "source": [
    "c = [['pankaj'],['kumar']]"
   ]
  },
  {
   "cell_type": "code",
   "execution_count": 90,
   "metadata": {},
   "outputs": [],
   "source": [
    "c.remove(c[1])"
   ]
  },
  {
   "cell_type": "code",
   "execution_count": 91,
   "metadata": {},
   "outputs": [
    {
     "data": {
      "text/plain": [
       "[['pankaj']]"
      ]
     },
     "execution_count": 91,
     "metadata": {},
     "output_type": "execute_result"
    }
   ],
   "source": [
    "c"
   ]
  },
  {
   "cell_type": "code",
   "execution_count": 93,
   "metadata": {},
   "outputs": [
    {
     "data": {
      "text/plain": [
       "[['pankaj'], ['kumar']]"
      ]
     },
     "execution_count": 93,
     "metadata": {},
     "output_type": "execute_result"
    }
   ],
   "source": [
    "c"
   ]
  },
  {
   "cell_type": "code",
   "execution_count": 94,
   "metadata": {},
   "outputs": [],
   "source": [
    "c.append(['chandravanshi'])"
   ]
  },
  {
   "cell_type": "code",
   "execution_count": 95,
   "metadata": {},
   "outputs": [
    {
     "data": {
      "text/plain": [
       "[['pankaj'], ['kumar'], ['chandravanshi']]"
      ]
     },
     "execution_count": 95,
     "metadata": {},
     "output_type": "execute_result"
    }
   ],
   "source": [
    "c"
   ]
  },
  {
   "cell_type": "code",
   "execution_count": 96,
   "metadata": {},
   "outputs": [],
   "source": [
    "l = []\n",
    "l.append(1)"
   ]
  },
  {
   "cell_type": "code",
   "execution_count": 99,
   "metadata": {},
   "outputs": [],
   "source": [
    "l.append(3)"
   ]
  },
  {
   "cell_type": "code",
   "execution_count": 100,
   "metadata": {},
   "outputs": [
    {
     "data": {
      "text/plain": [
       "[1, 3]"
      ]
     },
     "execution_count": 100,
     "metadata": {},
     "output_type": "execute_result"
    }
   ],
   "source": [
    "l"
   ]
  },
  {
   "cell_type": "code",
   "execution_count": 101,
   "metadata": {},
   "outputs": [
    {
     "ename": "ValueError",
     "evalue": "list.remove(x): x not in list",
     "output_type": "error",
     "traceback": [
      "\u001b[1;31m---------------------------------------------------------------------------\u001b[0m",
      "\u001b[1;31mValueError\u001b[0m                                Traceback (most recent call last)",
      "\u001b[1;32m<ipython-input-101-805ea05ab461>\u001b[0m in \u001b[0;36m<module>\u001b[1;34m\u001b[0m\n\u001b[1;32m----> 1\u001b[1;33m \u001b[0mc\u001b[0m\u001b[1;33m.\u001b[0m\u001b[0mremove\u001b[0m\u001b[1;33m(\u001b[0m\u001b[0ml\u001b[0m\u001b[1;33m)\u001b[0m\u001b[1;33m\u001b[0m\u001b[1;33m\u001b[0m\u001b[0m\n\u001b[0m",
      "\u001b[1;31mValueError\u001b[0m: list.remove(x): x not in list"
     ]
    }
   ],
   "source": [
    "c.remove(l)"
   ]
  },
  {
   "cell_type": "code",
   "execution_count": 102,
   "metadata": {},
   "outputs": [],
   "source": [
    "l=[]"
   ]
  },
  {
   "cell_type": "code",
   "execution_count": 103,
   "metadata": {},
   "outputs": [
    {
     "data": {
      "text/plain": [
       "[]"
      ]
     },
     "execution_count": 103,
     "metadata": {},
     "output_type": "execute_result"
    }
   ],
   "source": [
    "l"
   ]
  },
  {
   "cell_type": "code",
   "execution_count": 104,
   "metadata": {},
   "outputs": [
    {
     "data": {
      "text/plain": [
       "[[1, 2], [3, 4]]"
      ]
     },
     "execution_count": 104,
     "metadata": {},
     "output_type": "execute_result"
    }
   ],
   "source": [
    "b"
   ]
  },
  {
   "cell_type": "code",
   "execution_count": 105,
   "metadata": {},
   "outputs": [],
   "source": [
    "for k in l:\n",
    "    b.remove(k)"
   ]
  },
  {
   "cell_type": "code",
   "execution_count": 106,
   "metadata": {},
   "outputs": [
    {
     "data": {
      "text/plain": [
       "[[1, 2], [3, 4]]"
      ]
     },
     "execution_count": 106,
     "metadata": {},
     "output_type": "execute_result"
    }
   ],
   "source": [
    "b"
   ]
  },
  {
   "cell_type": "code",
   "execution_count": 119,
   "metadata": {},
   "outputs": [],
   "source": [
    "word_dict = {}\n",
    "\n",
    "word_dict['pankaj'] =1"
   ]
  },
  {
   "cell_type": "code",
   "execution_count": 120,
   "metadata": {},
   "outputs": [
    {
     "data": {
      "text/plain": [
       "{'pankaj': 1}"
      ]
     },
     "execution_count": 120,
     "metadata": {},
     "output_type": "execute_result"
    }
   ],
   "source": [
    "word_dict"
   ]
  },
  {
   "cell_type": "code",
   "execution_count": 121,
   "metadata": {},
   "outputs": [
    {
     "data": {
      "text/plain": [
       "True"
      ]
     },
     "execution_count": 121,
     "metadata": {},
     "output_type": "execute_result"
    }
   ],
   "source": [
    "'pankaj' in word_dict"
   ]
  },
  {
   "cell_type": "code",
   "execution_count": 122,
   "metadata": {},
   "outputs": [
    {
     "name": "stdout",
     "output_type": "stream",
     "text": [
      "pankaj\n"
     ]
    }
   ],
   "source": [
    "for word in word_dict:\n",
    "    print(word)"
   ]
  },
  {
   "cell_type": "code",
   "execution_count": 125,
   "metadata": {},
   "outputs": [],
   "source": [
    "word_dict['kumar'] =2"
   ]
  },
  {
   "cell_type": "code",
   "execution_count": 127,
   "metadata": {},
   "outputs": [
    {
     "data": {
      "text/plain": [
       "dict_keys(['pankaj', 'kumar'])"
      ]
     },
     "execution_count": 127,
     "metadata": {},
     "output_type": "execute_result"
    }
   ],
   "source": [
    "word_dict.keys()"
   ]
  },
  {
   "cell_type": "code",
   "execution_count": 129,
   "metadata": {},
   "outputs": [],
   "source": [
    "g = [[] for i in range(3)]"
   ]
  },
  {
   "cell_type": "code",
   "execution_count": 142,
   "metadata": {},
   "outputs": [
    {
     "data": {
      "text/plain": [
       "[1, 1]"
      ]
     },
     "execution_count": 142,
     "metadata": {},
     "output_type": "execute_result"
    }
   ],
   "source": [
    "g[0].append(1)\n",
    "g[0]"
   ]
  },
  {
   "cell_type": "code",
   "execution_count": 143,
   "metadata": {},
   "outputs": [
    {
     "name": "stdout",
     "output_type": "stream",
     "text": [
      "1 pals\n",
      "1 pals\n"
     ]
    }
   ],
   "source": [
    "for i in g[0]:\n",
    "    print(i,'pals')"
   ]
  },
  {
   "cell_type": "code",
   "execution_count": 144,
   "metadata": {},
   "outputs": [
    {
     "data": {
      "text/plain": [
       "'pankaj Kumar'"
      ]
     },
     "execution_count": 144,
     "metadata": {},
     "output_type": "execute_result"
    }
   ],
   "source": [
    "'pankaj_Kumar'.replace('_',' ')"
   ]
  },
  {
   "cell_type": "code",
   "execution_count": 148,
   "metadata": {},
   "outputs": [
    {
     "data": {
      "text/plain": [
       "2"
      ]
     },
     "execution_count": 148,
     "metadata": {},
     "output_type": "execute_result"
    }
   ],
   "source": [
    "a= [1,2,0,3,4,5]\n",
    "l = a.index(min(a))"
   ]
  },
  {
   "cell_type": "code",
   "execution_count": 152,
   "metadata": {},
   "outputs": [
    {
     "data": {
      "text/plain": [
       "[2, 1]"
      ]
     },
     "execution_count": 152,
     "metadata": {},
     "output_type": "execute_result"
    }
   ],
   "source": [
    "left = a[:2]\n",
    "sorted(left, reverse=True)"
   ]
  },
  {
   "cell_type": "code",
   "execution_count": 155,
   "metadata": {},
   "outputs": [],
   "source": [
    "from collections import deque\n",
    "d = deque(a)"
   ]
  },
  {
   "cell_type": "code",
   "execution_count": 156,
   "metadata": {},
   "outputs": [
    {
     "data": {
      "text/plain": [
       "deque([1, 2, 0, 3, 4, 5])"
      ]
     },
     "execution_count": 156,
     "metadata": {},
     "output_type": "execute_result"
    }
   ],
   "source": [
    "d"
   ]
  },
  {
   "cell_type": "code",
   "execution_count": 157,
   "metadata": {},
   "outputs": [
    {
     "data": {
      "text/plain": [
       "5"
      ]
     },
     "execution_count": 157,
     "metadata": {},
     "output_type": "execute_result"
    }
   ],
   "source": [
    "d.pop()"
   ]
  },
  {
   "cell_type": "code",
   "execution_count": 158,
   "metadata": {},
   "outputs": [
    {
     "data": {
      "text/plain": [
       "deque([1, 2, 0, 3, 4])"
      ]
     },
     "execution_count": 158,
     "metadata": {},
     "output_type": "execute_result"
    }
   ],
   "source": [
    "d"
   ]
  },
  {
   "cell_type": "code",
   "execution_count": 159,
   "metadata": {},
   "outputs": [
    {
     "data": {
      "text/plain": [
       "1"
      ]
     },
     "execution_count": 159,
     "metadata": {},
     "output_type": "execute_result"
    }
   ],
   "source": [
    "d.popleft()"
   ]
  },
  {
   "cell_type": "code",
   "execution_count": 172,
   "metadata": {},
   "outputs": [],
   "source": [
    "a = int(''.join(['2']*2))"
   ]
  },
  {
   "cell_type": "code",
   "execution_count": 175,
   "metadata": {},
   "outputs": [
    {
     "data": {
      "text/plain": [
       "[2, 2]"
      ]
     },
     "execution_count": 175,
     "metadata": {},
     "output_type": "execute_result"
    }
   ],
   "source": [
    "[2]*2"
   ]
  },
  {
   "cell_type": "code",
   "execution_count": 177,
   "metadata": {},
   "outputs": [],
   "source": [
    "from collections import Counter\n",
    "\n",
    "a = Counter([1,1,2,3])"
   ]
  },
  {
   "cell_type": "code",
   "execution_count": 182,
   "metadata": {},
   "outputs": [],
   "source": [
    "a[2]\n",
    "a = set((1,2,3))"
   ]
  },
  {
   "cell_type": "code",
   "execution_count": 183,
   "metadata": {},
   "outputs": [
    {
     "data": {
      "text/plain": [
       "{1, 2, 3}"
      ]
     },
     "execution_count": 183,
     "metadata": {},
     "output_type": "execute_result"
    }
   ],
   "source": [
    "a"
   ]
  },
  {
   "cell_type": "code",
   "execution_count": 184,
   "metadata": {},
   "outputs": [
    {
     "data": {
      "text/plain": [
       "{1, 5, 6}"
      ]
     },
     "execution_count": 184,
     "metadata": {},
     "output_type": "execute_result"
    }
   ],
   "source": [
    "b = set((1,5,6))\n",
    "b"
   ]
  },
  {
   "cell_type": "code",
   "execution_count": 189,
   "metadata": {},
   "outputs": [],
   "source": [
    "card = '123-145-25'"
   ]
  },
  {
   "cell_type": "code",
   "execution_count": 202,
   "metadata": {},
   "outputs": [],
   "source": [
    "a = Counter(card)"
   ]
  },
  {
   "cell_type": "code",
   "execution_count": 203,
   "metadata": {},
   "outputs": [
    {
     "data": {
      "text/plain": [
       "Counter({'1': 2, '2': 2, '3': 1, '-': 2, '4': 1, '5': 3})"
      ]
     },
     "execution_count": 203,
     "metadata": {},
     "output_type": "execute_result"
    }
   ],
   "source": [
    "a"
   ]
  },
  {
   "cell_type": "code",
   "execution_count": 201,
   "metadata": {},
   "outputs": [
    {
     "data": {
      "text/plain": [
       "{'-', '1', '2', '3', '4', '5'}"
      ]
     },
     "execution_count": 201,
     "metadata": {},
     "output_type": "execute_result"
    }
   ],
   "source": [
    "a"
   ]
  },
  {
   "cell_type": "code",
   "execution_count": 187,
   "metadata": {},
   "outputs": [
    {
     "data": {
      "text/plain": [
       "3"
      ]
     },
     "execution_count": 187,
     "metadata": {},
     "output_type": "execute_result"
    }
   ],
   "source": [
    "card.index('-')"
   ]
  },
  {
   "cell_type": "code",
   "execution_count": 188,
   "metadata": {},
   "outputs": [
    {
     "ename": "TypeError",
     "evalue": "'int' object is not iterable",
     "output_type": "error",
     "traceback": [
      "\u001b[1;31m---------------------------------------------------------------------------\u001b[0m",
      "\u001b[1;31mTypeError\u001b[0m                                 Traceback (most recent call last)",
      "\u001b[1;32m<ipython-input-188-7ade7017386b>\u001b[0m in \u001b[0;36m<module>\u001b[1;34m\u001b[0m\n\u001b[1;32m----> 1\u001b[1;33m \u001b[0mlist\u001b[0m\u001b[1;33m(\u001b[0m\u001b[1;36m1\u001b[0m\u001b[1;33m)\u001b[0m\u001b[1;33m\u001b[0m\u001b[1;33m\u001b[0m\u001b[0m\n\u001b[0m",
      "\u001b[1;31mTypeError\u001b[0m: 'int' object is not iterable"
     ]
    }
   ],
   "source": [
    "list(1)"
   ]
  },
  {
   "cell_type": "code",
   "execution_count": 204,
   "metadata": {},
   "outputs": [],
   "source": [
    "a = 9"
   ]
  },
  {
   "cell_type": "code",
   "execution_count": 205,
   "metadata": {},
   "outputs": [
    {
     "data": {
      "text/plain": [
       "9"
      ]
     },
     "execution_count": 205,
     "metadata": {},
     "output_type": "execute_result"
    }
   ],
   "source": [
    "++a"
   ]
  },
  {
   "cell_type": "code",
   "execution_count": 206,
   "metadata": {},
   "outputs": [
    {
     "data": {
      "text/plain": [
       "9"
      ]
     },
     "execution_count": 206,
     "metadata": {},
     "output_type": "execute_result"
    }
   ],
   "source": [
    "--a"
   ]
  },
  {
   "cell_type": "code",
   "execution_count": 207,
   "metadata": {},
   "outputs": [
    {
     "ename": "SyntaxError",
     "evalue": "invalid syntax (<ipython-input-207-22e3d6dc1353>, line 1)",
     "output_type": "error",
     "traceback": [
      "\u001b[1;36m  File \u001b[1;32m\"<ipython-input-207-22e3d6dc1353>\"\u001b[1;36m, line \u001b[1;32m1\u001b[0m\n\u001b[1;33m    a++\u001b[0m\n\u001b[1;37m       ^\u001b[0m\n\u001b[1;31mSyntaxError\u001b[0m\u001b[1;31m:\u001b[0m invalid syntax\n"
     ]
    }
   ],
   "source": [
    "a++"
   ]
  },
  {
   "cell_type": "code",
   "execution_count": 208,
   "metadata": {},
   "outputs": [
    {
     "ename": "SyntaxError",
     "evalue": "invalid syntax (<ipython-input-208-d589f663f6c7>, line 1)",
     "output_type": "error",
     "traceback": [
      "\u001b[1;36m  File \u001b[1;32m\"<ipython-input-208-d589f663f6c7>\"\u001b[1;36m, line \u001b[1;32m1\u001b[0m\n\u001b[1;33m    a+\u001b[0m\n\u001b[1;37m      ^\u001b[0m\n\u001b[1;31mSyntaxError\u001b[0m\u001b[1;31m:\u001b[0m invalid syntax\n"
     ]
    }
   ],
   "source": [
    "a+"
   ]
  },
  {
   "cell_type": "code",
   "execution_count": 253,
   "metadata": {},
   "outputs": [],
   "source": [
    "a = [1,1,2,3]"
   ]
  },
  {
   "cell_type": "code",
   "execution_count": 254,
   "metadata": {},
   "outputs": [
    {
     "name": "stdout",
     "output_type": "stream",
     "text": [
      "[1, 2, 3] [1, 1, 2, 3]\n",
      "[1, 2, 3] [1, 1, 2, 3]\n",
      "[1, 1, 3] [1, 1, 2, 3]\n",
      "[1, 1, 2] [1, 1, 2, 3]\n"
     ]
    }
   ],
   "source": [
    "for i in range(len(a)):\n",
    "    num = a[:]\n",
    "    del num[i]\n",
    "    print(num,a)"
   ]
  },
  {
   "cell_type": "code",
   "execution_count": 247,
   "metadata": {},
   "outputs": [],
   "source": [
    "d = a\n"
   ]
  },
  {
   "cell_type": "code",
   "execution_count": 248,
   "metadata": {},
   "outputs": [
    {
     "data": {
      "text/plain": [
       "[1, 1, 2, 3]"
      ]
     },
     "execution_count": 248,
     "metadata": {},
     "output_type": "execute_result"
    }
   ],
   "source": [
    "d"
   ]
  },
  {
   "cell_type": "code",
   "execution_count": 251,
   "metadata": {},
   "outputs": [],
   "source": [
    "d.remove(d[1])"
   ]
  },
  {
   "cell_type": "code",
   "execution_count": 252,
   "metadata": {},
   "outputs": [
    {
     "data": {
      "text/plain": [
       "[1, 3]"
      ]
     },
     "execution_count": 252,
     "metadata": {},
     "output_type": "execute_result"
    }
   ],
   "source": [
    "a"
   ]
  },
  {
   "cell_type": "code",
   "execution_count": 255,
   "metadata": {},
   "outputs": [
    {
     "data": {
      "text/plain": [
       "8"
      ]
     },
     "execution_count": 255,
     "metadata": {},
     "output_type": "execute_result"
    }
   ],
   "source": [
    "pow(2,3)"
   ]
  },
  {
   "cell_type": "code",
   "execution_count": 260,
   "metadata": {},
   "outputs": [],
   "source": [
    "import math"
   ]
  },
  {
   "cell_type": "code",
   "execution_count": 261,
   "metadata": {},
   "outputs": [
    {
     "data": {
      "text/plain": [
       "2.718281828459045"
      ]
     },
     "execution_count": 261,
     "metadata": {},
     "output_type": "execute_result"
    }
   ],
   "source": [
    "math.e"
   ]
  },
  {
   "cell_type": "code",
   "execution_count": null,
   "metadata": {},
   "outputs": [],
   "source": []
  }
 ],
 "metadata": {
  "kernelspec": {
   "display_name": "Python 3",
   "language": "python",
   "name": "python3"
  },
  "language_info": {
   "codemirror_mode": {
    "name": "ipython",
    "version": 3
   },
   "file_extension": ".py",
   "mimetype": "text/x-python",
   "name": "python",
   "nbconvert_exporter": "python",
   "pygments_lexer": "ipython3",
   "version": "3.7.1"
  }
 },
 "nbformat": 4,
 "nbformat_minor": 2
}
